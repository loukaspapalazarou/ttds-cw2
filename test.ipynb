{
 "cells": [
  {
   "cell_type": "code",
   "execution_count": 65,
   "metadata": {},
   "outputs": [],
   "source": [
    "import pandas as pd\n",
    "import re\n",
    "import numpy as np\n",
    "from scipy.sparse import dok_matrix\n",
    "from sklearn.svm import SVC\n",
    "import os\n",
    "import joblib\n",
    "\n",
    "pd.options.mode.chained_assignment = None  # default='warn'\n",
    "\n",
    "\n",
    "def preprocess_tweet(text):\n",
    "    return [\n",
    "        word\n",
    "        for word in re.split(r\"[^a-zA-Z0-9]+\", re.sub(r\"http\\S+\", \"\", text).lower())\n",
    "        if len(word) > 0\n",
    "    ]"
   ]
  },
  {
   "cell_type": "code",
   "execution_count": 66,
   "metadata": {},
   "outputs": [],
   "source": [
    "tweets_df = pd.read_csv(\"train.txt\", delimiter=\"\\t\")\n",
    "tweets_df = tweets_df.sample(frac=1, random_state=0)\n",
    "train_size = int(len(tweets_df) * 0.9)\n",
    "test_size = len(tweets_df) - train_size\n",
    "tweets_train_df = tweets_df.head(train_size)\n",
    "tweets_test_df = tweets_df.tail(test_size)"
   ]
  },
  {
   "cell_type": "code",
   "execution_count": 67,
   "metadata": {},
   "outputs": [],
   "source": [
    "tweets_train_df[\"tokenized_tweet\"] = tweets_train_df[\"tweet\"].apply(preprocess_tweet)\n",
    "tweets_test_df[\"tokenized_tweet\"] = tweets_test_df[\"tweet\"].apply(preprocess_tweet)\n",
    "\n",
    "\n",
    "train_terms = set()\n",
    "\n",
    "\n",
    "for tokens in tweets_train_df[\"tokenized_tweet\"].tolist():\n",
    "    train_terms.update(tokens)\n",
    "\n",
    "\n",
    "term_dict = {}\n",
    "\n",
    "\n",
    "for i, term in enumerate(train_terms):\n",
    "    term_dict[term] = i\n",
    "\n",
    "\n",
    "tweets_train_df[\"bow_terms\"] = tweets_train_df[\"tokenized_tweet\"].apply(\n",
    "    lambda x: [term_dict[term] for term in x]\n",
    ")\n",
    "\n",
    "\n",
    "tweets_test_df[\"bow_terms\"] = tweets_test_df[\"tokenized_tweet\"].apply(\n",
    "    lambda x: [term_dict[term] for term in x if term in term_dict]\n",
    ")\n",
    "\n",
    "\n",
    "classes = tweets_df[\"sentiment\"].unique()\n",
    "classes_dict = {}\n",
    "for i, c in enumerate(classes):\n",
    "    classes_dict[c] = i"
   ]
  },
  {
   "cell_type": "code",
   "execution_count": 68,
   "metadata": {},
   "outputs": [],
   "source": [
    "def tweets_df_to_model_input(df, term_dict):\n",
    "    X = dok_matrix((len(df), len(term_dict)), dtype=np.int32)\n",
    "    for i, bow_terms in enumerate(df[\"bow_terms\"]):\n",
    "        for term in bow_terms:\n",
    "            X[i, term] += 1\n",
    "    return X\n",
    "\n",
    "\n",
    "def tweets_df_to_model_output(df, classes_dict):\n",
    "    y = df[\"sentiment\"].apply(lambda x: classes_dict[x]).values\n",
    "    return y\n",
    "\n",
    "\n",
    "def model_output_to_sentiment(output, dict):\n",
    "    sentiments = []\n",
    "    for out in output:\n",
    "\n",
    "        sentiments.append(list(dict.keys())[list(dict.values()).index(out)])\n",
    "    return sentiments\n",
    "\n",
    "\n",
    "def create_single_tweet_model_input(tweet, term_dict):\n",
    "    df = {\"tweet\": [tweet]}\n",
    "    df = pd.DataFrame(df)\n",
    "    df[\"tokenized_tweet\"] = df[\"tweet\"].apply(preprocess_tweet)\n",
    "    df[\"bow_terms\"] = df[\"tokenized_tweet\"].apply(\n",
    "        lambda x: [term_dict[term] for term in x if term in term_dict]\n",
    "    )\n",
    "    X = dok_matrix((len(df), len(term_dict)), dtype=np.int32)\n",
    "    for i, bow_terms in enumerate(df[\"bow_terms\"]):\n",
    "        for term in bow_terms:\n",
    "            X[i, term] += 1\n",
    "    return X"
   ]
  },
  {
   "cell_type": "code",
   "execution_count": 69,
   "metadata": {},
   "outputs": [
    {
     "name": "stdout",
     "output_type": "stream",
     "text": [
      "{'neutral': 0, 'positive': 1, 'negative': 2}\n"
     ]
    }
   ],
   "source": [
    "X = tweets_df_to_model_input(tweets_train_df, term_dict)\n",
    "y = tweets_df_to_model_output(tweets_train_df, classes_dict)"
   ]
  },
  {
   "cell_type": "code",
   "execution_count": 70,
   "metadata": {},
   "outputs": [],
   "source": [
    "if os.path.isfile(\"svm_model.joblib\"):\n",
    "    model = joblib.load(\"svm_model.joblib\")\n",
    "else:\n",
    "    model = SVC(C=1000)\n",
    "\n",
    "    model.fit(X, y)\n",
    "    joblib.dump(model, \"svm_model.joblib\")"
   ]
  },
  {
   "cell_type": "code",
   "execution_count": 71,
   "metadata": {},
   "outputs": [
    {
     "name": "stdout",
     "output_type": "stream",
     "text": [
      "positive \t I'm so frustrated with Game of Thrones and I'm only on the 10th episode\n",
      "negative \t @sassree Steve Bannon runs the racist antisemitic islamophoic website Breitbart which he professes to lead the alt-right that are Neo Nazis\n",
      "neutral \t \"\"\"When your 2 1/2 yr old's 1st words this morning are \"\"\"\"It's Star Wars Day\"\"\"\" b/c we are seeing a sneak peek tonight #ProudGeekMom #HesDarthVadar\"\"\"\n",
      "positive \t Good lord the food in Italy is so damn good.. Found a random cheap spot in Milan.. Venice tomorrow! http://t.co/PmyWIXQR5K\n",
      "negative \t As you may know I'm no lover of David Cameron, however his decision to authorise drone attacks to kill British terrorists was #SpotOn\n",
      "neutral \t \"\"\"You sure it's not an Ice Cube, Dr Dre, and Eazy-E kinda day? https://t.co/aO0DtiDbSp\"\"\"\n",
      "negative \t Take that Liberals and Alt-Rightists! https://t.co/kwVVifhkYs\n",
      "neutral \t Ashley Graham Debuted ANOTHER New ‘Do at the 2016 VMAs #fitness #health #diet #gym #crossfit #muscle⇒ https://t.co/7x1qpuXFCH\n",
      "neutral \t All the talk will be about Nicki and Miley tomorrow. Nothing else has been talk worthy. #VMAs\n",
      "positive \t #KeepCalm Are you ready for the Zac Brown Band this Sunday night at SPAC? http://t.co/qCA6E5Lx1Q\n",
      "neutral \t austrians don't have electoral college https://t.co/RxntUvlF5p\n",
      "positive \t All I ask for my birthday is for Tom Brady to show out Thursday night and get the W! Ready for some football!!!\n",
      "neutral \t \"\"\"For those of you in #Scarborough or #Malvern, yoga is being offered Saturday mornings. Check it out: http://t.co/idCiMQoBOc\"\"\"\n",
      "positive \t A treat for #BondGeek's booking today as tomorrow we'll hear more on the title song now anticipated to be sung by Sam Smith? #SPECTRE\n",
      "positive \t AC/DC tomorrow at Ford Field. Someone is going to be tired on the second day of 6th grade. #butitshisfavoriteband \\m/ \\m/\n",
      "positive \t Thursday night can't come here early enough. Tom Brady versus the awesome #Steelers secondary haha\n",
      "neutral \t \"\"\"Zain Javadd \"\"\"\"Zayn\"\"\"\" Malik (born 12 January 1993) is an English singer&amp;songwriter &amp; former member of the boyband One Di http://t.co/ZRVvY2kBPy\"\"\"\n",
      "negative \t \"\"\"Dustin Johnson wasting no time reminding everyone that Sunday really, really isn't his day. Ever.\"\"\"\n",
      "neutral \t May not watch #RAW tonight I was already tired of Seth Rollins when he retained against Brock. Just think how big he's head going to be now.\n",
      "neutral \t @a_man_in_yellow @cidsa And goodbye to any man who thinks he can take on John Cena this Sunday night!!!\n",
      "positive \t \"\"\"@imprisonedniall Niall loves you very much and you can see how much he loves you. Dont think that ! Every time you @ him, he may see it :)\"\"\"\n",
      "neutral \t @Poroshenko Petro, in answer to your question about abolishing EU visas for Ukraine, I say the following:\n",
      "neutral \t Let's be honest how many of ya sat down and listened to Kendrick's To Pimp a Butterfly? Cause I skimmed through it once and turned it off\n",
      "neutral \t EXO DO confirms casting for new movie 'Big Brother' with Jo Jung Suk to start filming in Oct http://t.co/825Mz3E03H http://t.co/HTrCKBIA3b\n",
      "neutral \t Trump offers Flynn National Security Adviser job https://t.co/gPdk0XgGEW\n",
      "negative \t When all the nut jobs w guns start in, maybe it will be Trump's presidency that gets the US gun control... https://t.co/u48GtpsZZn\n",
      "neutral \t \"\"\"Wondering if after SC turning down Yakub's appeal tomorrow  he would again petition  the President again ,  and this  to go on and on and  !\"\"\"\n",
      "positive \t \"\"\"Carly Fiorina, considered the breakout star of the early debate Thursday, spent most of her business career with AT&amp;T. @BillOReilly.com\"\"\"\n",
      "positive \t @johnsonsbanger @JackJackJohnson you never know. It may be a song lyric from one of their songs on Calibraska\n",
      "neutral \t \"\"\"@ACMilanSydney Milan, in my opinion, have only the 7th best squad, after Inter, Roma, Juventus, Lazio, Napoli and Fiorentina.\"\"\"\n",
      "neutral \t @OnikaThot Nicki was trying to or the producers told her to discredit Mariah there and Mariah sat her bc she's still more successful\n",
      "neutral \t Brandon Crawford knocks in Ryan Braun with a sac fly in the 9th. 6-3 AL #ASG\n",
      "positive \t The excitement I got when we got 2 #Hatchimals was way too much for a 19 year old girl to get.\n",
      "neutral \t \"\"\"@alexDITYA_ just hoping, tomorrow in Indonesia  , GAY people will be accepted #amen\"\"\"\n",
      "neutral \t @MCPEsuggestions got Amazon last Thursday, got IOS last night but the update isn't showing in Google play store yet...\n",
      "neutral \t Bet you the one that leaked Michelle's speech to Melania too huh? #ShudaKnownSas\n",
      "neutral \t Floyd Mayweather's dallying may mean a rematch with Oscar De La Hoya... and then another date with Manny Pacquiao\n",
      "neutral \t \"\"\"Dear bros/sis in Islam, ASSALAMU ALAYKUM and May Almighty Allah peace be upon all of you!. Why Saying... http://t.co/VZ3UXRSdTG\"\"\"\n",
      "positive \t \"Love listening to Popovich talk about Tim Duncan. \"\"He can do whatever he wants...every time we go to a meal, we raise a glass and toast him\"\"\"\n",
      "neutral \t I know y'all band wagoning j Cole and Kendrick if you thought Black Friday was fire\n",
      "neutral \t If I didnt have you I'd never see the sun. #MTVStars Lady Gaga\n",
      "neutral \t Kim Jong Un 's Letter Introduced by ACP https://t.co/LC5LPdMpHC\n",
      "neutral \t Nicki does not have the time to be shady she will deadass drop the tea on ya lap and let you get a 3rd degree burn\n",
      "neutral \t via @AlexPoucher_com & NYPost - Consumer Reports trashes Tesla’s ‘flawed’ Model Xhttps://t.co/QWP5yaU99O\n",
      "positive \t Somebody should bring me a ice chips ahoy from dunkin donuts tomorrow I'll pay you back\n",
      "neutral \t @ggiittiikkaa congress may declare Yakub as a martyr and declare him as junior father of the nation !\n",
      "positive \t Beauty And The Beast Has Set Our Expectations High! #beautyandthebeast #disney https://t.co/h3kSRvsyLJ https://t.co/zzlHvlq6oE\n",
      "neutral \t \"\"\"Randy Orton become the youngest World Champion of all time. #WWE  August 15th 2004, #SummerSlam. #WWE http://t.co/meQQ3h9ruV\"\"\"\n",
      "neutral \t \"\"\"Sunday Oliseh Meets With Victor Moses In London (Photo): Super Eagles coach, Sunday Oliseh has started the pro... http://t.co/PMLwowmab8\"\"\"\n",
      "neutral \t Wikipedia: Call to action to update Homeopathy at Wikipedia - Sign the Petition! https://t.co/jwWEQjT8Ik via @Change\n"
     ]
    }
   ],
   "source": [
    "df = tweets_test_df.head(50)\n",
    "\n",
    "X = tweets_df_to_model_input(df, term_dict)\n",
    "\n",
    "y_pred = model.predict(X)\n",
    "\n",
    "for t, s in zip(\n",
    "    df[\"tweet\"].tolist(), model_output_to_sentiment(y_pred, classes_dict)\n",
    "):\n",
    "    print(s, \"\\t\", t)"
   ]
  },
  {
   "cell_type": "code",
   "execution_count": 78,
   "metadata": {},
   "outputs": [
    {
     "name": "stdout",
     "output_type": "stream",
     "text": [
      "['positive']\n"
     ]
    }
   ],
   "source": [
    "model = joblib.load(\"svm_model.joblib\")\n",
    "\n",
    "tweet = \"where's the money skylar you bitch. im joking i love you\"\n",
    "\n",
    "X = create_single_tweet_model_input(tweet, term_dict)\n",
    "\n",
    "y_pred = model.predict(X)\n",
    "\n",
    "s = model_output_to_sentiment(y_pred, classes_dict)\n",
    "\n",
    "print(s)"
   ]
  }
 ],
 "metadata": {
  "kernelspec": {
   "display_name": "venv",
   "language": "python",
   "name": "python3"
  },
  "language_info": {
   "codemirror_mode": {
    "name": "ipython",
    "version": 3
   },
   "file_extension": ".py",
   "mimetype": "text/x-python",
   "name": "python",
   "nbconvert_exporter": "python",
   "pygments_lexer": "ipython3",
   "version": "3.11.4"
  }
 },
 "nbformat": 4,
 "nbformat_minor": 2
}
