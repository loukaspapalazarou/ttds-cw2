{
 "cells": [
  {
   "cell_type": "code",
   "execution_count": 50,
   "metadata": {},
   "outputs": [],
   "source": [
    "import pandas as pd\n",
    "import re\n",
    "import numpy as np\n",
    "from scipy.sparse import dok_matrix\n",
    "from sklearn.svm import SVC\n",
    "\n",
    "pd.options.mode.chained_assignment = None  # default='warn'\n",
    "\n",
    "\n",
    "def preprocess_tweet(text):\n",
    "    return [\n",
    "        word\n",
    "        for word in re.split(r\"[^a-zA-Z0-9]+\", re.sub(r\"http\\S+\", \"\", text).lower())\n",
    "        if len(word) > 0\n",
    "    ]"
   ]
  },
  {
   "cell_type": "code",
   "execution_count": 51,
   "metadata": {},
   "outputs": [],
   "source": [
    "tweets_df = pd.read_csv(\"train.txt\", delimiter=\"\\t\")\n",
    "tweets_df = tweets_df.sample(frac=1, random_state=0)\n",
    "train_size = int(len(tweets_df) * 0.8)\n",
    "test_size = len(tweets_df) - train_size\n",
    "tweets_train_df = tweets_df.head(train_size)\n",
    "tweets_test_df = tweets_df.tail(test_size)"
   ]
  },
  {
   "cell_type": "code",
   "execution_count": 52,
   "metadata": {},
   "outputs": [],
   "source": [
    "tweets_train_df[\"tokenized_tweet\"] = tweets_train_df[\"tweet\"].apply(preprocess_tweet)\n",
    "tweets_test_df[\"tokenized_tweet\"] = tweets_test_df[\"tweet\"].apply(preprocess_tweet)\n",
    "\n",
    "\n",
    "train_terms = set()\n",
    "\n",
    "\n",
    "for tokens in tweets_train_df[\"tokenized_tweet\"].tolist():\n",
    "    train_terms.update(tokens)\n",
    "\n",
    "\n",
    "\n",
    "term_dict = {}\n",
    "\n",
    "\n",
    "for i, term in enumerate(train_terms):\n",
    "    term_dict[term] = i\n",
    "\n",
    "\n",
    "\n",
    "tweets_train_df[\"bow_terms\"] = tweets_train_df[\"tokenized_tweet\"].apply(\n",
    "    lambda x: [term_dict[term] for term in x]\n",
    ")\n",
    "\n",
    "\n",
    "\n",
    "tweets_test_df[\"bow_terms\"] = tweets_test_df[\"tokenized_tweet\"].apply(\n",
    "    lambda x: [term_dict[term] for term in x if term in term_dict]\n",
    ")\n",
    "\n",
    "\n",
    "categories = tweets_df[\"sentiment\"].unique()\n",
    "categories_dict = {}\n",
    "for i, c in enumerate(categories):\n",
    "    categories_dict[c] = i"
   ]
  },
  {
   "cell_type": "code",
   "execution_count": 53,
   "metadata": {},
   "outputs": [],
   "source": [
    "def tweets_df_to_model_input(df, train_terms_len):\n",
    "    X = dok_matrix((len(df), train_terms_len), dtype=np.int32)\n",
    "    for i, bow_terms in enumerate(df[\"bow_terms\"]):\n",
    "        for term in bow_terms:\n",
    "            X[i, term] += 1\n",
    "    return X\n",
    "\n",
    "\n",
    "def tweets_df_to_model_output(df):\n",
    "    categories = df[\"sentiment\"].unique()\n",
    "    categories_dict = {}\n",
    "    for i, c in enumerate(categories):\n",
    "        categories_dict[c] = i\n",
    "    y = df[\"sentiment\"].apply(lambda x: categories_dict[x]).values\n",
    "    return y\n",
    "\n",
    "\n",
    "def model_output_to_sentiment(output, dict):\n",
    "    sentiments = []\n",
    "    for out in output:\n",
    "        sentiments.append(list(dict.keys())[list(dict.values()).index(out)])\n",
    "    return sentiments"
   ]
  },
  {
   "cell_type": "code",
   "execution_count": 54,
   "metadata": {},
   "outputs": [],
   "source": [
    "X = tweets_df_to_model_input(tweets_train_df, len(train_terms))\n",
    "y = tweets_df_to_model_output(tweets_train_df)"
   ]
  },
  {
   "cell_type": "code",
   "execution_count": 55,
   "metadata": {},
   "outputs": [
    {
     "data": {
      "text/html": [
       "<style>#sk-container-id-3 {color: black;}#sk-container-id-3 pre{padding: 0;}#sk-container-id-3 div.sk-toggleable {background-color: white;}#sk-container-id-3 label.sk-toggleable__label {cursor: pointer;display: block;width: 100%;margin-bottom: 0;padding: 0.3em;box-sizing: border-box;text-align: center;}#sk-container-id-3 label.sk-toggleable__label-arrow:before {content: \"▸\";float: left;margin-right: 0.25em;color: #696969;}#sk-container-id-3 label.sk-toggleable__label-arrow:hover:before {color: black;}#sk-container-id-3 div.sk-estimator:hover label.sk-toggleable__label-arrow:before {color: black;}#sk-container-id-3 div.sk-toggleable__content {max-height: 0;max-width: 0;overflow: hidden;text-align: left;background-color: #f0f8ff;}#sk-container-id-3 div.sk-toggleable__content pre {margin: 0.2em;color: black;border-radius: 0.25em;background-color: #f0f8ff;}#sk-container-id-3 input.sk-toggleable__control:checked~div.sk-toggleable__content {max-height: 200px;max-width: 100%;overflow: auto;}#sk-container-id-3 input.sk-toggleable__control:checked~label.sk-toggleable__label-arrow:before {content: \"▾\";}#sk-container-id-3 div.sk-estimator input.sk-toggleable__control:checked~label.sk-toggleable__label {background-color: #d4ebff;}#sk-container-id-3 div.sk-label input.sk-toggleable__control:checked~label.sk-toggleable__label {background-color: #d4ebff;}#sk-container-id-3 input.sk-hidden--visually {border: 0;clip: rect(1px 1px 1px 1px);clip: rect(1px, 1px, 1px, 1px);height: 1px;margin: -1px;overflow: hidden;padding: 0;position: absolute;width: 1px;}#sk-container-id-3 div.sk-estimator {font-family: monospace;background-color: #f0f8ff;border: 1px dotted black;border-radius: 0.25em;box-sizing: border-box;margin-bottom: 0.5em;}#sk-container-id-3 div.sk-estimator:hover {background-color: #d4ebff;}#sk-container-id-3 div.sk-parallel-item::after {content: \"\";width: 100%;border-bottom: 1px solid gray;flex-grow: 1;}#sk-container-id-3 div.sk-label:hover label.sk-toggleable__label {background-color: #d4ebff;}#sk-container-id-3 div.sk-serial::before {content: \"\";position: absolute;border-left: 1px solid gray;box-sizing: border-box;top: 0;bottom: 0;left: 50%;z-index: 0;}#sk-container-id-3 div.sk-serial {display: flex;flex-direction: column;align-items: center;background-color: white;padding-right: 0.2em;padding-left: 0.2em;position: relative;}#sk-container-id-3 div.sk-item {position: relative;z-index: 1;}#sk-container-id-3 div.sk-parallel {display: flex;align-items: stretch;justify-content: center;background-color: white;position: relative;}#sk-container-id-3 div.sk-item::before, #sk-container-id-3 div.sk-parallel-item::before {content: \"\";position: absolute;border-left: 1px solid gray;box-sizing: border-box;top: 0;bottom: 0;left: 50%;z-index: -1;}#sk-container-id-3 div.sk-parallel-item {display: flex;flex-direction: column;z-index: 1;position: relative;background-color: white;}#sk-container-id-3 div.sk-parallel-item:first-child::after {align-self: flex-end;width: 50%;}#sk-container-id-3 div.sk-parallel-item:last-child::after {align-self: flex-start;width: 50%;}#sk-container-id-3 div.sk-parallel-item:only-child::after {width: 0;}#sk-container-id-3 div.sk-dashed-wrapped {border: 1px dashed gray;margin: 0 0.4em 0.5em 0.4em;box-sizing: border-box;padding-bottom: 0.4em;background-color: white;}#sk-container-id-3 div.sk-label label {font-family: monospace;font-weight: bold;display: inline-block;line-height: 1.2em;}#sk-container-id-3 div.sk-label-container {text-align: center;}#sk-container-id-3 div.sk-container {/* jupyter's `normalize.less` sets `[hidden] { display: none; }` but bootstrap.min.css set `[hidden] { display: none !important; }` so we also need the `!important` here to be able to override the default hidden behavior on the sphinx rendered scikit-learn.org. See: https://github.com/scikit-learn/scikit-learn/issues/21755 */display: inline-block !important;position: relative;}#sk-container-id-3 div.sk-text-repr-fallback {display: none;}</style><div id=\"sk-container-id-3\" class=\"sk-top-container\"><div class=\"sk-text-repr-fallback\"><pre>SVC(C=1000)</pre><b>In a Jupyter environment, please rerun this cell to show the HTML representation or trust the notebook. <br />On GitHub, the HTML representation is unable to render, please try loading this page with nbviewer.org.</b></div><div class=\"sk-container\" hidden><div class=\"sk-item\"><div class=\"sk-estimator sk-toggleable\"><input class=\"sk-toggleable__control sk-hidden--visually\" id=\"sk-estimator-id-3\" type=\"checkbox\" checked><label for=\"sk-estimator-id-3\" class=\"sk-toggleable__label sk-toggleable__label-arrow\">SVC</label><div class=\"sk-toggleable__content\"><pre>SVC(C=1000)</pre></div></div></div></div></div>"
      ],
      "text/plain": [
       "SVC(C=1000)"
      ]
     },
     "execution_count": 55,
     "metadata": {},
     "output_type": "execute_result"
    }
   ],
   "source": [
    "model = SVC(C=1000)\n",
    "model.fit(X, y)"
   ]
  },
  {
   "cell_type": "code",
   "execution_count": 57,
   "metadata": {},
   "outputs": [
    {
     "name": "stdout",
     "output_type": "stream",
     "text": [
      "[0 0 0 2 1 0 2 0 1 1 0 0 0 0 0 0 0 0 0 1 0 1 0 0 0 0 1 0 0 0 0 1 0 0 0 0 0\n",
      " 0 1 0 1 0 2 0 1 0 0 1 0 1]\n"
     ]
    }
   ],
   "source": [
    "df = tweets_test_df.head(50)\n",
    "\n",
    "X = tweets_df_to_model_input(df, len(train_terms))\n",
    "\n",
    "y_pred = model.predict(X)\n",
    "\n",
    "print(y_pred)"
   ]
  },
  {
   "cell_type": "code",
   "execution_count": 59,
   "metadata": {},
   "outputs": [
    {
     "name": "stdout",
     "output_type": "stream",
     "text": [
      "neutral \t To anyone in Briana's family who may stumble upon this let it be known that we've always believed you're bottom of the barrel trash but that\n",
      "neutral \t EU should demand Saakashvili get top gov position before anymore cash. https://t.co/5LcgJtDR3e via @FT\n",
      "neutral \t @RondaRousey will make Floyd Mayweather her bitch. i'll give her 35 seconds 1st round ;)\n",
      "negative \t @BuzzingWASP_ @roflmaoism To be honest, I don't even know where you Alt-Rightists get your swagger from, you got treated like bitches.\n",
      "positive \t \"\"\"@baghdadinvest @abbasnasir59 Not just Christians, you are in the prayers of \"\"\"\"all of us\"\"\"\" humans.May you stay safe and be free soon!God bless.\"\"\"\n",
      "neutral \t Chuck Norris:jan strangle you with a cordless phone.\n",
      "negative \t Noah fence but I'm sick of people telling me what I should or shouldn't be eating e.g vegetarianism\n",
      "neutral \t Josh Hamilton (knee) is out of the Rangers' starting lineup again on Tuesday night against the Mariners.\n",
      "positive \t Can't wait to see the iPad Plus .... #Apple #AppleEvent #TimCook  https://t.co/qiR5JjDdjp\n",
      "positive \t Google Earth VR, guys. Mind blowing. Literally... just... Whoah. You have to come over and try this.\n",
      "neutral \t \"\"\"#suvelo twilight #crit is on this friday! A,B,C grade available. sign-on from 5:30pm, racing starts at 6pm. $10 entry! spread the news!\"\"\"\n",
      "neutral \t It appeared to be business as usual in the Red Sox dugout Sunday -- except for the fact pitcher He... - via @ESPN App http://t.co/fzEYQKFFya\n",
      "neutral \t \"@blazing_charles, we need something like the \"\"Electoral College Votes\"\" System. ANC hide behind aggregated numbers to win.\"\n",
      "neutral \t My dad has been reading #TheWalkingDead nonstop for the past two days.\n",
      "neutral \t @LadyBleach my point was that just your fathers fear of Islam may actually stem from its similarities to Judaism\n",
      "neutral \t Gucci unmentionables number one security november discipline the twain thy something incoming productiveness h...\n",
      "neutral \t @redstarwarrior @TheMercedesXXX yet you dont focus on issues of the 1st amendment. You drag out every thing you can bash about Christians.\n",
      "neutral \t Pope Francis could've privately answered the 5 yes?/no? questions the cardinals originally posed PRIVATELY.… https://t.co/h5hHIqOiRA\n",
      "neutral \t James Corden telling Chris Evans' young son about a fight his parents were having live on TFI Friday.  #cringing\n",
      "positive \t @DannyBrennan72 as long as you don't go all Kurt Cobain on me, he may have been awesome, but he might not have made the best choises lol\n",
      "neutral \t @KevinWFaris @buzzbaker @SECNetwork Tim Duncan still has money\n",
      "positive \t \"\"\"National Ice Cream Day arrives this Sunday, July 19th, and you can celebrate by diving mouth-first into free ice... http://t.co/GMlLoBSGC3\"\"\"\n",
      "neutral \t @IsraelNewsNow May Israel obey the Ten Commandments one day?  No Israel thinks it is above God or justice.\n",
      "neutral \t \"\"\"@TimesNow may be Rahul Gandhi was going thru \"\"\"\"those days\"\"\"\"\"\"\"\n",
      "neutral \t @gentle_caveman @serranogd58 @realDonaldTrump Don:Please have the Conway girl send this to all the deplorables that voted for the 2016  scam\n",
      "neutral \t \"\"\"And that Nicki and Miley \"\"\"\"beef\"\"\"\" looked toooo staged, Nicki smiled, Miley response was too instant (like she been practisin it).. c'mon MTV\"\"\"\n",
      "positive \t \"\"\"@45IMAX51 Thanks, Israel! The base-band version will determine if the device is up-to-date. May we please have the model\"\"\"\n",
      "neutral \t My TinkerCAD & MeshMixer Workflow – 3D Modeling for 3D Printing – Using Free CAD Softwares https://t.co/K92hndtJGq\n",
      "neutral \t Come back to Milan @drnategoldstein! This one has your name all over it!  https://t.co/dVVosqve2t\n",
      "neutral \t Let's be clear, politicians orchestrating mass protests in #Ukraine have only their own interests at heart - NOT Uk… https://t.co/2fcnV8BZhF\n",
      "neutral \t Scott Walker brags he treated teachers as harshly as he'll treat ISIS. Now he's trying to destroy #Wisconsin farmers http://t.co/UpZShT64cq\n",
      "positive \t The original #MannequinChallenge https://t.co/MTeRe9OGw9\n",
      "neutral \t Do you watch #TheWalkingDead?\n",
      "neutral \t Ariana Grande Private Event for Coach in Japan, August 2015 https://t.co/5DCmT5HkrF #ArianaGrande\n",
      "neutral \t I just have one question. ARE YOU READY FOR THIS SUNDAY NIGHT WHEN JOHN CENA GOES ONE ON ONE WITH SETH ROLLINS? https://t.co/Cbzt5tNYrp\n",
      "neutral \t If Sheamus has a concussion then Randy Orton may be placed in the Cesaro/Owens feud. #RAW\n",
      "neutral \t \"\"\"I watched the clock turn midnight, and just sat there thinking how crazy it is that I met Shawn exactly a year ago\"\"\"\n",
      "neutral \t @DebraMessing @hulltiger1963 @washingtonpost @JuddLegum @kurteichenwald @TheJusticeDept @JoltedToad Comey? 😂😂😂\n",
      "positive \t So TRUE!! #NeverRomney Reject ROMNEY!!! @realDonaldTrump @EricTrump @mike_pence https://t.co/fjtu3bsQ0w\n",
      "neutral \t REPORT TRUTH! #NoDAPL #Unconstitutional #PoliceBrutality #StandingRock #HumanRights #EnergyTransferPartners… https://t.co/wduJaN9EIW\n",
      "positive \t @Breeeee07 do you work Sunday? we can have a Dunkin date\n",
      "neutral \t Of course Nigeria blames the U.S. for not being able to fight Boko Haram. 3rd world countries don't want to progress. Just depend on others.\n",
      "negative \t @MaxBarnett1515 @FoxNews @KatTimpf so it's #DrainTheSwamp of lobbyists unless you're Rudy Giuliani?\n",
      "neutral \t Messi at an event (Adidas Red Limit 16) to publicise his new boots #fcblive [via @FCBW_A7] https://t.co/pxngpAQv9m\n",
      "positive \t Kanye West September 25th... Disclosure September 29th.... guess I aint going to Vegas for Life Is Beautiful.\n",
      "neutral \t Gucci bags myself restricted information august enact the span your personal inlet addition so side blazing: ...\n",
      "neutral \t Anyone want to come to Disneyland with @kafffrin and I tomorrow? We have a spot in the car\n",
      "positive \t @HiWireBrewing will you guys be open for the 7:45am Arsenal v Chelsea game on the 19th? I'll bring breakfast!\n",
      "neutral \t Last monday on raw was the summerslam rematch between the Wyatt family taking on Roman Reigns and dean ambrose.\n",
      "positive \t Today In Photos: Courtney Love Shares Sweet Throwback with Kurt Cobain http://t.co/Cp1otzfJDP via @harpersbazaarus\n"
     ]
    }
   ],
   "source": [
    "for t, s in zip(\n",
    "    df[\"tweet\"].tolist(), model_output_to_sentiment(y_pred, categories_dict)\n",
    "):\n",
    "    print(s,\"\\t\" ,t)"
   ]
  }
 ],
 "metadata": {
  "kernelspec": {
   "display_name": "venv",
   "language": "python",
   "name": "python3"
  },
  "language_info": {
   "codemirror_mode": {
    "name": "ipython",
    "version": 3
   },
   "file_extension": ".py",
   "mimetype": "text/x-python",
   "name": "python",
   "nbconvert_exporter": "python",
   "pygments_lexer": "ipython3",
   "version": "3.11.4"
  }
 },
 "nbformat": 4,
 "nbformat_minor": 2
}
